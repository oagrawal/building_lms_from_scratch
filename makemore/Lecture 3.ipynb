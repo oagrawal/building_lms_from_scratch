{
 "cells": [
  {
   "cell_type": "code",
   "execution_count": 63,
   "id": "39f4799d-8ea7-4510-8032-d96d9d2f51b6",
   "metadata": {},
   "outputs": [
    {
     "data": {
      "text/plain": [
       "'\\narray based approach is not scalable; matrix grows exponentially with context length\\ngoing from bigram to MLP to predict next character (following Bengio et al: https://www.jmlr.org/papers/volume3/bengio03a/bengio03a.pdf)\\n-> reserach paper made word level model, but well stick to characters\\n-> for every word in vocab (17,000), a 30-dim feature vector\\n-> very crowded\\n-> these embeddings are init randomly, but are tuned using backprop\\n-> max log liklihood of training data\\n-> \"out of distributiuon\": youre in inference time and you see an exmaple that you haven\\'t encountered in training time\\n-> embeddings approach, lets you get around \"out of distribution\" problem\\n----> A and the are interchangeable, embeddings are nearby for a and the, transfer knowledge through embeddings\\n-> hyperparameter-> design choice for the neural network, up to neural network designer\\n-> \\n\\n'"
      ]
     },
     "execution_count": 63,
     "metadata": {},
     "output_type": "execute_result"
    }
   ],
   "source": [
    "\"\"\"\n",
    "array based approach is not scalable; matrix grows exponentially with context length\n",
    "going from bigram to MLP to predict next character (following Bengio et al: https://www.jmlr.org/papers/volume3/bengio03a/bengio03a.pdf)\n",
    "-> reserach paper made word level model, but well stick to characters\n",
    "-> for every word in vocab (17,000), a 30-dim feature vector\n",
    "-> very crowded\n",
    "-> these embeddings are init randomly, but are tuned using backprop\n",
    "-> max log liklihood of training data\n",
    "-> \"out of distributiuon\": youre in inference time and you see an exmaple that you haven't encountered in training time\n",
    "-> embeddings approach, lets you get around \"out of distribution\" problem\n",
    "----> A and the are interchangeable, embeddings are nearby for a and the, transfer knowledge through embeddings\n",
    "-> hyperparameter-> design choice for the neural network, up to neural network designer\n",
    "-> \n",
    "\n",
    "\"\"\""
   ]
  },
  {
   "cell_type": "code",
   "execution_count": 64,
   "id": "fd3a8f74-a059-46d5-af98-18a0a6ed8e47",
   "metadata": {},
   "outputs": [],
   "source": [
    "import torch\n",
    "import torch.nn.functional as F\n",
    "import matplotlib.pyplot as plt # for making figures\n",
    "%matplotlib inline\n"
   ]
  },
  {
   "cell_type": "code",
   "execution_count": 65,
   "id": "cd4889f0-9b4a-4593-aab4-75cea301eb96",
   "metadata": {},
   "outputs": [
    {
     "data": {
      "text/plain": [
       "['emma', 'olivia', 'ava', 'isabella', 'sophia', 'charlotte', 'mia', 'amelia']"
      ]
     },
     "execution_count": 65,
     "metadata": {},
     "output_type": "execute_result"
    }
   ],
   "source": [
    "# read in all the words\n",
    "words = open('names.txt', 'r').read().splitlines()\n",
    "words[:8]\n"
   ]
  },
  {
   "cell_type": "code",
   "execution_count": 66,
   "id": "06ddb937-949a-4792-9206-b9bc89f1107e",
   "metadata": {},
   "outputs": [
    {
     "data": {
      "text/plain": [
       "32033"
      ]
     },
     "execution_count": 66,
     "metadata": {},
     "output_type": "execute_result"
    }
   ],
   "source": [
    "len(words)\n"
   ]
  },
  {
   "cell_type": "code",
   "execution_count": 67,
   "id": "c3d53ff3-6a38-46bb-bbda-97945e1174f6",
   "metadata": {},
   "outputs": [
    {
     "name": "stdout",
     "output_type": "stream",
     "text": [
      "{1: 'a', 2: 'b', 3: 'c', 4: 'd', 5: 'e', 6: 'f', 7: 'g', 8: 'h', 9: 'i', 10: 'j', 11: 'k', 12: 'l', 13: 'm', 14: 'n', 15: 'o', 16: 'p', 17: 'q', 18: 'r', 19: 's', 20: 't', 21: 'u', 22: 'v', 23: 'w', 24: 'x', 25: 'y', 26: 'z', 0: '.'}\n"
     ]
    }
   ],
   "source": [
    "# build the vocabulary of characters and mappings to/from integers\n",
    "chars = sorted(list(set(''.join(words))))\n",
    "stoi = {s:i+1 for i,s in enumerate(chars)}\n",
    "stoi['.'] = 0\n",
    "itos = {i:s for s,i in stoi.items()}\n",
    "print(itos)\n"
   ]
  },
  {
   "cell_type": "code",
   "execution_count": 68,
   "id": "89503e82-7208-429e-aac0-afdd32e7177f",
   "metadata": {
    "scrolled": true
   },
   "outputs": [
    {
     "name": "stdout",
     "output_type": "stream",
     "text": [
      "emma\n",
      "... ---> e\n",
      "..e ---> m\n",
      ".em ---> m\n",
      "emm ---> a\n",
      "mma ---> .\n",
      "olivia\n",
      "... ---> o\n",
      "..o ---> l\n",
      ".ol ---> i\n",
      "oli ---> v\n",
      "liv ---> i\n",
      "ivi ---> a\n",
      "via ---> .\n",
      "ava\n",
      "... ---> a\n",
      "..a ---> v\n",
      ".av ---> a\n",
      "ava ---> .\n",
      "isabella\n",
      "... ---> i\n",
      "..i ---> s\n",
      ".is ---> a\n",
      "isa ---> b\n",
      "sab ---> e\n",
      "abe ---> l\n",
      "bel ---> l\n",
      "ell ---> a\n",
      "lla ---> .\n",
      "sophia\n",
      "... ---> s\n",
      "..s ---> o\n",
      ".so ---> p\n",
      "sop ---> h\n",
      "oph ---> i\n",
      "phi ---> a\n",
      "hia ---> .\n"
     ]
    }
   ],
   "source": [
    "# build the dataset\n",
    "\n",
    "block_size = 3 # context length: how many characters do we take to predict the next one?\n",
    "X, Y = [], []\n",
    "for w in words[:5]:\n",
    "  \n",
    "  print(w)\n",
    "  context = [0] * block_size\n",
    "  for ch in w + '.':\n",
    "    ix = stoi[ch]\n",
    "    X.append(context)\n",
    "    Y.append(ix)\n",
    "    print(''.join(itos[i] for i in context), '--->', itos[ix])\n",
    "    context = context[1:] + [ix] # crop and append\n",
    "  \n",
    "X = torch.tensor(X)\n",
    "Y = torch.tensor(Y)\n"
   ]
  },
  {
   "cell_type": "code",
   "execution_count": 69,
   "id": "b1fd7675-9658-450e-a659-8fe1bc75231d",
   "metadata": {},
   "outputs": [
    {
     "data": {
      "text/plain": [
       "(torch.Size([32, 3]), torch.int64, torch.Size([32]), torch.int64)"
      ]
     },
     "execution_count": 69,
     "metadata": {},
     "output_type": "execute_result"
    }
   ],
   "source": [
    "X.shape, X.dtype, Y.shape, Y.dtype\n"
   ]
  },
  {
   "cell_type": "code",
   "execution_count": 70,
   "id": "f4e3ffbf-3802-45df-9ad2-459448fbd277",
   "metadata": {},
   "outputs": [],
   "source": [
    "# create the embeddings space\n",
    "# paper has 17K words, we only have 27 characters\n",
    "# lets make embedding space 2 dimensional\n",
    "C = torch.randn((27, 2))"
   ]
  },
  {
   "cell_type": "code",
   "execution_count": 71,
   "id": "6b55ba79-f48e-46d7-8158-9b42d5650265",
   "metadata": {},
   "outputs": [
    {
     "data": {
      "text/plain": [
       "tensor([-0.4998,  0.3961])"
      ]
     },
     "execution_count": 71,
     "metadata": {},
     "output_type": "execute_result"
    }
   ],
   "source": [
    "#embed one word\n",
    "C[5]"
   ]
  },
  {
   "cell_type": "code",
   "execution_count": 72,
   "id": "89e4012a-babf-421e-8d7b-19fef218725a",
   "metadata": {},
   "outputs": [
    {
     "data": {
      "text/plain": [
       "tensor([-0.4998,  0.3961])"
      ]
     },
     "execution_count": 72,
     "metadata": {},
     "output_type": "execute_result"
    }
   ],
   "source": [
    "F.one_hot(torch.tensor(5), num_classes=27).float() @ C"
   ]
  },
  {
   "cell_type": "code",
   "execution_count": 73,
   "id": "3aeb8c04-eccb-43dd-94c6-05911c4d4303",
   "metadata": {},
   "outputs": [],
   "source": [
    "# we can interpret the embeddings as a layer, a layer with no non linearity, whose parameters are the matrix C\n",
    "# for now we will index into C, because it is faster"
   ]
  },
  {
   "cell_type": "code",
   "execution_count": 74,
   "id": "12c38ffb-5fb7-49dd-bf13-26dcf4bfa704",
   "metadata": {},
   "outputs": [
    {
     "data": {
      "text/plain": [
       "tensor([[ 0.9502, -0.4485],\n",
       "        [-0.7982,  0.5253],\n",
       "        [-0.8011,  2.5952]])"
      ]
     },
     "execution_count": 74,
     "metadata": {},
     "output_type": "execute_result"
    }
   ],
   "source": [
    "C[[1, 2, 3]]"
   ]
  },
  {
   "cell_type": "code",
   "execution_count": 75,
   "id": "4ffd324e-ab83-42c9-8938-f5052587dd95",
   "metadata": {},
   "outputs": [],
   "source": [
    "emb = C[X] # pytorch indexing is amazing"
   ]
  },
  {
   "cell_type": "code",
   "execution_count": 76,
   "id": "c8fbcb2a-bf13-4018-9b5d-bd38525d5aa2",
   "metadata": {},
   "outputs": [
    {
     "data": {
      "text/plain": [
       "torch.Size([32, 3, 2])"
      ]
     },
     "execution_count": 76,
     "metadata": {},
     "output_type": "execute_result"
    }
   ],
   "source": [
    "emb.shape # we want 32 * 6 shape"
   ]
  },
  {
   "cell_type": "code",
   "execution_count": 77,
   "id": "93ce63ef-dd99-4fa1-8500-033c2d3fc05a",
   "metadata": {},
   "outputs": [],
   "source": [
    "W1 = torch.randn((6, 100))\n",
    "b1 = torch.rand(100)"
   ]
  },
  {
   "cell_type": "code",
   "execution_count": 78,
   "id": "cdb38c8b-0db4-4277-8e36-f68579acc119",
   "metadata": {
    "scrolled": true
   },
   "outputs": [
    {
     "data": {
      "text/plain": [
       "tensor([[-1.3702,  0.9075, -1.3702,  0.9075, -1.3702,  0.9075],\n",
       "        [-1.3702,  0.9075, -1.3702,  0.9075, -0.4998,  0.3961],\n",
       "        [-1.3702,  0.9075, -0.4998,  0.3961, -0.4761,  2.0225],\n",
       "        [-0.4998,  0.3961, -0.4761,  2.0225, -0.4761,  2.0225],\n",
       "        [-0.4761,  2.0225, -0.4761,  2.0225,  0.9502, -0.4485],\n",
       "        [-1.3702,  0.9075, -1.3702,  0.9075, -1.3702,  0.9075],\n",
       "        [-1.3702,  0.9075, -1.3702,  0.9075,  0.5976, -0.3545],\n",
       "        [-1.3702,  0.9075,  0.5976, -0.3545,  0.1793,  0.2570],\n",
       "        [ 0.5976, -0.3545,  0.1793,  0.2570,  2.3497, -2.0078],\n",
       "        [ 0.1793,  0.2570,  2.3497, -2.0078,  1.3155, -0.6029],\n",
       "        [ 2.3497, -2.0078,  1.3155, -0.6029,  2.3497, -2.0078],\n",
       "        [ 1.3155, -0.6029,  2.3497, -2.0078,  0.9502, -0.4485],\n",
       "        [-1.3702,  0.9075, -1.3702,  0.9075, -1.3702,  0.9075],\n",
       "        [-1.3702,  0.9075, -1.3702,  0.9075,  0.9502, -0.4485],\n",
       "        [-1.3702,  0.9075,  0.9502, -0.4485,  1.3155, -0.6029],\n",
       "        [ 0.9502, -0.4485,  1.3155, -0.6029,  0.9502, -0.4485],\n",
       "        [-1.3702,  0.9075, -1.3702,  0.9075, -1.3702,  0.9075],\n",
       "        [-1.3702,  0.9075, -1.3702,  0.9075,  2.3497, -2.0078],\n",
       "        [-1.3702,  0.9075,  2.3497, -2.0078,  1.1904,  1.5274],\n",
       "        [ 2.3497, -2.0078,  1.1904,  1.5274,  0.9502, -0.4485],\n",
       "        [ 1.1904,  1.5274,  0.9502, -0.4485, -0.7982,  0.5253],\n",
       "        [ 0.9502, -0.4485, -0.7982,  0.5253, -0.4998,  0.3961],\n",
       "        [-0.7982,  0.5253, -0.4998,  0.3961,  0.1793,  0.2570],\n",
       "        [-0.4998,  0.3961,  0.1793,  0.2570,  0.1793,  0.2570],\n",
       "        [ 0.1793,  0.2570,  0.1793,  0.2570,  0.9502, -0.4485],\n",
       "        [-1.3702,  0.9075, -1.3702,  0.9075, -1.3702,  0.9075],\n",
       "        [-1.3702,  0.9075, -1.3702,  0.9075,  1.1904,  1.5274],\n",
       "        [-1.3702,  0.9075,  1.1904,  1.5274,  0.5976, -0.3545],\n",
       "        [ 1.1904,  1.5274,  0.5976, -0.3545, -0.8041, -0.6388],\n",
       "        [ 0.5976, -0.3545, -0.8041, -0.6388, -0.3602, -1.2871],\n",
       "        [-0.8041, -0.6388, -0.3602, -1.2871,  2.3497, -2.0078],\n",
       "        [-0.3602, -1.2871,  2.3497, -2.0078,  0.9502, -0.4485]])"
      ]
     },
     "execution_count": 78,
     "metadata": {},
     "output_type": "execute_result"
    }
   ],
   "source": [
    "# we want to do emb @ W1 + b1\n",
    "torch.cat(torch.unbind(emb, 1), 1)"
   ]
  },
  {
   "cell_type": "code",
   "execution_count": 79,
   "id": "20da6708-bc65-49ce-8147-8248ac7cfc4d",
   "metadata": {},
   "outputs": [
    {
     "data": {
      "text/plain": [
       "tensor([ 0,  1,  2,  3,  4,  5,  6,  7,  8,  9, 10, 11, 12, 13, 14, 15, 16, 17])"
      ]
     },
     "execution_count": 79,
     "metadata": {},
     "output_type": "execute_result"
    }
   ],
   "source": [
    "# more efficient way... torch.view(), storage is identical, the attributed are being manipulated\n",
    "# more for torch internals: \n",
    "#---> https://blog.ezyang.com/2019/05/pytorch-internals/\n",
    "a = torch.arange(18)\n",
    "a"
   ]
  },
  {
   "cell_type": "code",
   "execution_count": 80,
   "id": "6c9f5c2a-4b05-497d-872e-ecb16f440958",
   "metadata": {},
   "outputs": [
    {
     "data": {
      "text/plain": [
       "torch.Size([18])"
      ]
     },
     "execution_count": 80,
     "metadata": {},
     "output_type": "execute_result"
    }
   ],
   "source": [
    "a.shape"
   ]
  },
  {
   "cell_type": "code",
   "execution_count": 81,
   "id": "088e4dc3-9fe3-48a2-b167-12cb58272b80",
   "metadata": {},
   "outputs": [
    {
     "data": {
      "text/plain": [
       "tensor([[ 0,  1,  2,  3,  4,  5],\n",
       "        [ 6,  7,  8,  9, 10, 11],\n",
       "        [12, 13, 14, 15, 16, 17]])"
      ]
     },
     "execution_count": 81,
     "metadata": {},
     "output_type": "execute_result"
    }
   ],
   "source": [
    "a.view(3, 6)"
   ]
  },
  {
   "cell_type": "code",
   "execution_count": 82,
   "id": "a9e38230-987c-4671-84df-12b6dadbc4b1",
   "metadata": {
    "scrolled": true
   },
   "outputs": [
    {
     "data": {
      "text/plain": [
       " 0\n",
       " 1\n",
       " 2\n",
       " 3\n",
       " 4\n",
       " 5\n",
       " 6\n",
       " 7\n",
       " 8\n",
       " 9\n",
       " 10\n",
       " 11\n",
       " 12\n",
       " 13\n",
       " 14\n",
       " 15\n",
       " 16\n",
       " 17\n",
       "[torch.storage.TypedStorage(dtype=torch.int64, device=cpu) of size 18]"
      ]
     },
     "execution_count": 82,
     "metadata": {},
     "output_type": "execute_result"
    }
   ],
   "source": [
    "a.storage()"
   ]
  },
  {
   "cell_type": "code",
   "execution_count": 83,
   "id": "4eb0c203-dc6e-4b45-a0dd-19aef56a6678",
   "metadata": {},
   "outputs": [
    {
     "data": {
      "text/plain": [
       "torch.Size([32, 3, 2])"
      ]
     },
     "execution_count": 83,
     "metadata": {},
     "output_type": "execute_result"
    }
   ],
   "source": [
    "emb.shape # we want 32 * 6 shape"
   ]
  },
  {
   "cell_type": "code",
   "execution_count": 84,
   "id": "8800926a-5393-4d95-8b81-58873388ce80",
   "metadata": {
    "scrolled": true
   },
   "outputs": [
    {
     "data": {
      "text/plain": [
       "tensor([[-1.3702,  0.9075, -1.3702,  0.9075, -1.3702,  0.9075],\n",
       "        [-1.3702,  0.9075, -1.3702,  0.9075, -0.4998,  0.3961],\n",
       "        [-1.3702,  0.9075, -0.4998,  0.3961, -0.4761,  2.0225],\n",
       "        [-0.4998,  0.3961, -0.4761,  2.0225, -0.4761,  2.0225],\n",
       "        [-0.4761,  2.0225, -0.4761,  2.0225,  0.9502, -0.4485],\n",
       "        [-1.3702,  0.9075, -1.3702,  0.9075, -1.3702,  0.9075],\n",
       "        [-1.3702,  0.9075, -1.3702,  0.9075,  0.5976, -0.3545],\n",
       "        [-1.3702,  0.9075,  0.5976, -0.3545,  0.1793,  0.2570],\n",
       "        [ 0.5976, -0.3545,  0.1793,  0.2570,  2.3497, -2.0078],\n",
       "        [ 0.1793,  0.2570,  2.3497, -2.0078,  1.3155, -0.6029],\n",
       "        [ 2.3497, -2.0078,  1.3155, -0.6029,  2.3497, -2.0078],\n",
       "        [ 1.3155, -0.6029,  2.3497, -2.0078,  0.9502, -0.4485],\n",
       "        [-1.3702,  0.9075, -1.3702,  0.9075, -1.3702,  0.9075],\n",
       "        [-1.3702,  0.9075, -1.3702,  0.9075,  0.9502, -0.4485],\n",
       "        [-1.3702,  0.9075,  0.9502, -0.4485,  1.3155, -0.6029],\n",
       "        [ 0.9502, -0.4485,  1.3155, -0.6029,  0.9502, -0.4485],\n",
       "        [-1.3702,  0.9075, -1.3702,  0.9075, -1.3702,  0.9075],\n",
       "        [-1.3702,  0.9075, -1.3702,  0.9075,  2.3497, -2.0078],\n",
       "        [-1.3702,  0.9075,  2.3497, -2.0078,  1.1904,  1.5274],\n",
       "        [ 2.3497, -2.0078,  1.1904,  1.5274,  0.9502, -0.4485],\n",
       "        [ 1.1904,  1.5274,  0.9502, -0.4485, -0.7982,  0.5253],\n",
       "        [ 0.9502, -0.4485, -0.7982,  0.5253, -0.4998,  0.3961],\n",
       "        [-0.7982,  0.5253, -0.4998,  0.3961,  0.1793,  0.2570],\n",
       "        [-0.4998,  0.3961,  0.1793,  0.2570,  0.1793,  0.2570],\n",
       "        [ 0.1793,  0.2570,  0.1793,  0.2570,  0.9502, -0.4485],\n",
       "        [-1.3702,  0.9075, -1.3702,  0.9075, -1.3702,  0.9075],\n",
       "        [-1.3702,  0.9075, -1.3702,  0.9075,  1.1904,  1.5274],\n",
       "        [-1.3702,  0.9075,  1.1904,  1.5274,  0.5976, -0.3545],\n",
       "        [ 1.1904,  1.5274,  0.5976, -0.3545, -0.8041, -0.6388],\n",
       "        [ 0.5976, -0.3545, -0.8041, -0.6388, -0.3602, -1.2871],\n",
       "        [-0.8041, -0.6388, -0.3602, -1.2871,  2.3497, -2.0078],\n",
       "        [-0.3602, -1.2871,  2.3497, -2.0078,  0.9502, -0.4485]])"
      ]
     },
     "execution_count": 84,
     "metadata": {},
     "output_type": "execute_result"
    }
   ],
   "source": [
    "emb.view(32, 6)"
   ]
  },
  {
   "cell_type": "code",
   "execution_count": 85,
   "id": "fa76b7d4-71ef-443c-9c07-149f4c79bf20",
   "metadata": {},
   "outputs": [],
   "source": [
    "# more organized:"
   ]
  },
  {
   "cell_type": "code",
   "execution_count": 86,
   "id": "d36c9dcf-63e4-4359-9c06-ed409df99957",
   "metadata": {},
   "outputs": [],
   "source": [
    "emb = C[X] # pytorch indexing is amazing"
   ]
  },
  {
   "cell_type": "code",
   "execution_count": 87,
   "id": "3fb6bbb0-7e4e-4f13-9340-8ddeabdd3097",
   "metadata": {},
   "outputs": [],
   "source": [
    "W1 = torch.randn((6, 100))\n",
    "b1 = torch.rand(100)"
   ]
  },
  {
   "cell_type": "code",
   "execution_count": 88,
   "id": "1ea9d7de-f111-4547-afb0-26630e129400",
   "metadata": {},
   "outputs": [
    {
     "data": {
      "text/plain": [
       "tensor([[-0.5949,  0.8825, -0.9991,  ...,  0.2154, -0.9603, -0.9995],\n",
       "        [-0.8762,  0.9761, -0.9332,  ...,  0.3455, -0.9242, -0.9972],\n",
       "        [-0.9981, -0.9989, -0.9586,  ...,  0.7263, -0.9985, -0.9629],\n",
       "        ...,\n",
       "        [ 1.0000,  0.9777, -0.5695,  ..., -0.5574,  0.9966,  0.5221],\n",
       "        [ 0.8508,  0.9813,  0.9997,  ...,  0.6148,  0.9960,  0.7054],\n",
       "        [ 0.2092, -0.9902,  0.9964,  ...,  0.2392,  0.9068,  0.9822]])"
      ]
     },
     "execution_count": 88,
     "metadata": {},
     "output_type": "execute_result"
    }
   ],
   "source": [
    "# cat creates new memory, .view is way more efficient\n",
    "h = torch.tanh(emb.view(-1, 6) @ W1 + b1) # first element of view() is -1, pytorch will infer the size\n",
    "h"
   ]
  },
  {
   "cell_type": "code",
   "execution_count": 89,
   "id": "7b00897d-18bc-4a63-9de4-1aa965e9d838",
   "metadata": {},
   "outputs": [
    {
     "data": {
      "text/plain": [
       "torch.Size([32, 100])"
      ]
     },
     "execution_count": 89,
     "metadata": {},
     "output_type": "execute_result"
    }
   ],
   "source": [
    "h.shape"
   ]
  },
  {
   "cell_type": "code",
   "execution_count": 90,
   "id": "b34b3925-5211-4f39-91ca-49caa3afb2d9",
   "metadata": {},
   "outputs": [],
   "source": [
    "W2 = torch.randn((100, 27))\n",
    "b2 = torch.rand(27)"
   ]
  },
  {
   "cell_type": "code",
   "execution_count": 91,
   "id": "89876822-4087-46eb-92c4-14250fd00c74",
   "metadata": {},
   "outputs": [],
   "source": [
    "logits = h @ W2 + b2 \n"
   ]
  },
  {
   "cell_type": "code",
   "execution_count": 92,
   "id": "fb07da0b-9d2d-454f-9a78-eed2b1d90a16",
   "metadata": {},
   "outputs": [],
   "source": [
    "counts = logits.exp() # get fake counts\n"
   ]
  },
  {
   "cell_type": "code",
   "execution_count": 93,
   "id": "3dcc6193-8538-4781-9d6d-a14b19ba757b",
   "metadata": {},
   "outputs": [],
   "source": [
    "\"\"\"\n",
    "shape of counts: 32, 27\n",
    "counts/sum():    32, 1 -> each of the 27 elements in the row will get the same thing to divide by elementwise\n",
    "\"\"\"\n",
    "prob = counts / counts.sum(1, keepdims=True) # sum along first dim (we want to end up with 32 sums, not 27)"
   ]
  },
  {
   "cell_type": "code",
   "execution_count": 94,
   "id": "b51791d3-9ec4-418f-956f-f0d5b6e6a5c1",
   "metadata": {},
   "outputs": [
    {
     "data": {
      "text/plain": [
       "torch.Size([32, 27])"
      ]
     },
     "execution_count": 94,
     "metadata": {},
     "output_type": "execute_result"
    }
   ],
   "source": [
    "prob.shape"
   ]
  },
  {
   "cell_type": "code",
   "execution_count": 95,
   "id": "3e27db11-35b4-4902-8696-2b9b4f02f483",
   "metadata": {},
   "outputs": [
    {
     "data": {
      "text/plain": [
       "tensor([ 5, 13, 13,  1,  0, 15, 12,  9, 22,  9,  1,  0,  1, 22,  1,  0,  9, 19,\n",
       "         1,  2,  5, 12, 12,  1,  0, 19, 15, 16,  8,  9,  1,  0])"
      ]
     },
     "execution_count": 95,
     "metadata": {},
     "output_type": "execute_result"
    }
   ],
   "source": [
    "# now we have the probs as predicted by our neural net -> lets pick out the probs assigned by\n",
    "# the neural net to the expected next token (which are given by Y)\n",
    "Y"
   ]
  },
  {
   "cell_type": "code",
   "execution_count": 96,
   "id": "d5df09f3-68da-40c8-981b-b297da6deaf0",
   "metadata": {},
   "outputs": [
    {
     "data": {
      "text/plain": [
       "tensor(17.7983)"
      ]
     },
     "execution_count": 96,
     "metadata": {},
     "output_type": "execute_result"
    }
   ],
   "source": [
    "loss = -prob[torch.arange(32), Y].log().mean()\n",
    "loss"
   ]
  },
  {
   "cell_type": "code",
   "execution_count": 97,
   "id": "cae8d842-408e-475f-86ea-af269ff726bb",
   "metadata": {},
   "outputs": [],
   "source": [
    "# much more respectable"
   ]
  },
  {
   "cell_type": "code",
   "execution_count": 98,
   "id": "1b17459c-3657-46eb-86a2-99cc4fa1b6f8",
   "metadata": {},
   "outputs": [],
   "source": [
    "# build the dataset\n",
    "\n",
    "block_size = 3 # context length: how many characters do we take to predict the next one?\n",
    "X, Y = [], []\n",
    "for w in words:\n",
    "  \n",
    "  # print(w)\n",
    "  context = [0] * block_size\n",
    "  for ch in w + '.':\n",
    "    ix = stoi[ch]\n",
    "    X.append(context)\n",
    "    Y.append(ix)\n",
    "    # print(''.join(itos[i] for i in context), '--->', itos[ix])\n",
    "    context = context[1:] + [ix] # crop and append\n",
    "  \n",
    "X = torch.tensor(X)\n",
    "Y = torch.tensor(Y)\n"
   ]
  },
  {
   "cell_type": "code",
   "execution_count": 99,
   "id": "ac05232d-57d1-46aa-8514-3a34b6400331",
   "metadata": {
    "scrolled": true
   },
   "outputs": [
    {
     "data": {
      "text/plain": [
       "(torch.Size([228146, 3]), torch.int64, torch.Size([228146]), torch.int64)"
      ]
     },
     "execution_count": 99,
     "metadata": {},
     "output_type": "execute_result"
    }
   ],
   "source": [
    "X.shape, X.dtype, Y.shape, Y.dtype\n"
   ]
  },
  {
   "cell_type": "code",
   "execution_count": 100,
   "id": "981f2ea5-f648-48ea-b6e3-61a605d46178",
   "metadata": {},
   "outputs": [],
   "source": [
    "g = torch.Generator().manual_seed(2147483647) # for reproducibility\n",
    "C = torch.randn((27, 2), generator=g)\n",
    "W1 = torch.randn((6, 100), generator=g)\n",
    "b1 = torch.randn(100, generator=g)\n",
    "W2 = torch.randn((100, 27), generator=g)\n",
    "b2 = torch.randn(27, generator=g)\n",
    "parameters = [C, W1, b1, W2, b2]"
   ]
  },
  {
   "cell_type": "code",
   "execution_count": 101,
   "id": "c54825ea-a8de-4b1c-a0eb-ed1268d6f23b",
   "metadata": {
    "scrolled": true
   },
   "outputs": [
    {
     "data": {
      "text/plain": [
       "3481"
      ]
     },
     "execution_count": 101,
     "metadata": {},
     "output_type": "execute_result"
    }
   ],
   "source": [
    "sum(p.nelement() for p in parameters) # number of parameters in total\n"
   ]
  },
  {
   "cell_type": "code",
   "execution_count": 102,
   "id": "73fccead-b110-47f1-bf24-0fa1e0b134e3",
   "metadata": {},
   "outputs": [],
   "source": [
    "for p in parameters:\n",
    "    p.requires_grad = True"
   ]
  },
  {
   "cell_type": "code",
   "execution_count": 103,
   "id": "4e316f17-793c-4885-9bf8-5a2b1d4585b6",
   "metadata": {},
   "outputs": [
    {
     "data": {
      "text/plain": [
       "tensor([0.0010, 0.0010, 0.0010, 0.0010, 0.0010, 0.0010, 0.0010, 0.0010, 0.0011,\n",
       "        0.0011, 0.0011, 0.0011, 0.0011, 0.0011, 0.0011, 0.0011, 0.0011, 0.0011,\n",
       "        0.0011, 0.0011, 0.0011, 0.0012, 0.0012, 0.0012, 0.0012, 0.0012, 0.0012,\n",
       "        0.0012, 0.0012, 0.0012, 0.0012, 0.0012, 0.0012, 0.0013, 0.0013, 0.0013,\n",
       "        0.0013, 0.0013, 0.0013, 0.0013, 0.0013, 0.0013, 0.0013, 0.0013, 0.0014,\n",
       "        0.0014, 0.0014, 0.0014, 0.0014, 0.0014, 0.0014, 0.0014, 0.0014, 0.0014,\n",
       "        0.0015, 0.0015, 0.0015, 0.0015, 0.0015, 0.0015, 0.0015, 0.0015, 0.0015,\n",
       "        0.0015, 0.0016, 0.0016, 0.0016, 0.0016, 0.0016, 0.0016, 0.0016, 0.0016,\n",
       "        0.0016, 0.0017, 0.0017, 0.0017, 0.0017, 0.0017, 0.0017, 0.0017, 0.0017,\n",
       "        0.0018, 0.0018, 0.0018, 0.0018, 0.0018, 0.0018, 0.0018, 0.0018, 0.0019,\n",
       "        0.0019, 0.0019, 0.0019, 0.0019, 0.0019, 0.0019, 0.0019, 0.0020, 0.0020,\n",
       "        0.0020, 0.0020, 0.0020, 0.0020, 0.0020, 0.0021, 0.0021, 0.0021, 0.0021,\n",
       "        0.0021, 0.0021, 0.0021, 0.0022, 0.0022, 0.0022, 0.0022, 0.0022, 0.0022,\n",
       "        0.0022, 0.0023, 0.0023, 0.0023, 0.0023, 0.0023, 0.0023, 0.0024, 0.0024,\n",
       "        0.0024, 0.0024, 0.0024, 0.0024, 0.0025, 0.0025, 0.0025, 0.0025, 0.0025,\n",
       "        0.0025, 0.0026, 0.0026, 0.0026, 0.0026, 0.0026, 0.0027, 0.0027, 0.0027,\n",
       "        0.0027, 0.0027, 0.0027, 0.0028, 0.0028, 0.0028, 0.0028, 0.0028, 0.0029,\n",
       "        0.0029, 0.0029, 0.0029, 0.0029, 0.0030, 0.0030, 0.0030, 0.0030, 0.0030,\n",
       "        0.0031, 0.0031, 0.0031, 0.0031, 0.0032, 0.0032, 0.0032, 0.0032, 0.0032,\n",
       "        0.0033, 0.0033, 0.0033, 0.0033, 0.0034, 0.0034, 0.0034, 0.0034, 0.0034,\n",
       "        0.0035, 0.0035, 0.0035, 0.0035, 0.0036, 0.0036, 0.0036, 0.0036, 0.0037,\n",
       "        0.0037, 0.0037, 0.0037, 0.0038, 0.0038, 0.0038, 0.0039, 0.0039, 0.0039,\n",
       "        0.0039, 0.0040, 0.0040, 0.0040, 0.0040, 0.0041, 0.0041, 0.0041, 0.0042,\n",
       "        0.0042, 0.0042, 0.0042, 0.0043, 0.0043, 0.0043, 0.0044, 0.0044, 0.0044,\n",
       "        0.0045, 0.0045, 0.0045, 0.0045, 0.0046, 0.0046, 0.0046, 0.0047, 0.0047,\n",
       "        0.0047, 0.0048, 0.0048, 0.0048, 0.0049, 0.0049, 0.0049, 0.0050, 0.0050,\n",
       "        0.0050, 0.0051, 0.0051, 0.0051, 0.0052, 0.0052, 0.0053, 0.0053, 0.0053,\n",
       "        0.0054, 0.0054, 0.0054, 0.0055, 0.0055, 0.0056, 0.0056, 0.0056, 0.0057,\n",
       "        0.0057, 0.0058, 0.0058, 0.0058, 0.0059, 0.0059, 0.0060, 0.0060, 0.0060,\n",
       "        0.0061, 0.0061, 0.0062, 0.0062, 0.0062, 0.0063, 0.0063, 0.0064, 0.0064,\n",
       "        0.0065, 0.0065, 0.0066, 0.0066, 0.0067, 0.0067, 0.0067, 0.0068, 0.0068,\n",
       "        0.0069, 0.0069, 0.0070, 0.0070, 0.0071, 0.0071, 0.0072, 0.0072, 0.0073,\n",
       "        0.0073, 0.0074, 0.0074, 0.0075, 0.0075, 0.0076, 0.0076, 0.0077, 0.0077,\n",
       "        0.0078, 0.0079, 0.0079, 0.0080, 0.0080, 0.0081, 0.0081, 0.0082, 0.0082,\n",
       "        0.0083, 0.0084, 0.0084, 0.0085, 0.0085, 0.0086, 0.0086, 0.0087, 0.0088,\n",
       "        0.0088, 0.0089, 0.0090, 0.0090, 0.0091, 0.0091, 0.0092, 0.0093, 0.0093,\n",
       "        0.0094, 0.0095, 0.0095, 0.0096, 0.0097, 0.0097, 0.0098, 0.0099, 0.0099,\n",
       "        0.0100, 0.0101, 0.0101, 0.0102, 0.0103, 0.0104, 0.0104, 0.0105, 0.0106,\n",
       "        0.0106, 0.0107, 0.0108, 0.0109, 0.0109, 0.0110, 0.0111, 0.0112, 0.0112,\n",
       "        0.0113, 0.0114, 0.0115, 0.0116, 0.0116, 0.0117, 0.0118, 0.0119, 0.0120,\n",
       "        0.0121, 0.0121, 0.0122, 0.0123, 0.0124, 0.0125, 0.0126, 0.0127, 0.0127,\n",
       "        0.0128, 0.0129, 0.0130, 0.0131, 0.0132, 0.0133, 0.0134, 0.0135, 0.0136,\n",
       "        0.0137, 0.0137, 0.0138, 0.0139, 0.0140, 0.0141, 0.0142, 0.0143, 0.0144,\n",
       "        0.0145, 0.0146, 0.0147, 0.0148, 0.0149, 0.0150, 0.0151, 0.0152, 0.0154,\n",
       "        0.0155, 0.0156, 0.0157, 0.0158, 0.0159, 0.0160, 0.0161, 0.0162, 0.0163,\n",
       "        0.0165, 0.0166, 0.0167, 0.0168, 0.0169, 0.0170, 0.0171, 0.0173, 0.0174,\n",
       "        0.0175, 0.0176, 0.0178, 0.0179, 0.0180, 0.0181, 0.0182, 0.0184, 0.0185,\n",
       "        0.0186, 0.0188, 0.0189, 0.0190, 0.0192, 0.0193, 0.0194, 0.0196, 0.0197,\n",
       "        0.0198, 0.0200, 0.0201, 0.0202, 0.0204, 0.0205, 0.0207, 0.0208, 0.0210,\n",
       "        0.0211, 0.0212, 0.0214, 0.0215, 0.0217, 0.0218, 0.0220, 0.0221, 0.0223,\n",
       "        0.0225, 0.0226, 0.0228, 0.0229, 0.0231, 0.0232, 0.0234, 0.0236, 0.0237,\n",
       "        0.0239, 0.0241, 0.0242, 0.0244, 0.0246, 0.0247, 0.0249, 0.0251, 0.0253,\n",
       "        0.0254, 0.0256, 0.0258, 0.0260, 0.0261, 0.0263, 0.0265, 0.0267, 0.0269,\n",
       "        0.0271, 0.0273, 0.0274, 0.0276, 0.0278, 0.0280, 0.0282, 0.0284, 0.0286,\n",
       "        0.0288, 0.0290, 0.0292, 0.0294, 0.0296, 0.0298, 0.0300, 0.0302, 0.0304,\n",
       "        0.0307, 0.0309, 0.0311, 0.0313, 0.0315, 0.0317, 0.0320, 0.0322, 0.0324,\n",
       "        0.0326, 0.0328, 0.0331, 0.0333, 0.0335, 0.0338, 0.0340, 0.0342, 0.0345,\n",
       "        0.0347, 0.0350, 0.0352, 0.0354, 0.0357, 0.0359, 0.0362, 0.0364, 0.0367,\n",
       "        0.0369, 0.0372, 0.0375, 0.0377, 0.0380, 0.0382, 0.0385, 0.0388, 0.0390,\n",
       "        0.0393, 0.0396, 0.0399, 0.0401, 0.0404, 0.0407, 0.0410, 0.0413, 0.0416,\n",
       "        0.0418, 0.0421, 0.0424, 0.0427, 0.0430, 0.0433, 0.0436, 0.0439, 0.0442,\n",
       "        0.0445, 0.0448, 0.0451, 0.0455, 0.0458, 0.0461, 0.0464, 0.0467, 0.0471,\n",
       "        0.0474, 0.0477, 0.0480, 0.0484, 0.0487, 0.0491, 0.0494, 0.0497, 0.0501,\n",
       "        0.0504, 0.0508, 0.0511, 0.0515, 0.0518, 0.0522, 0.0526, 0.0529, 0.0533,\n",
       "        0.0537, 0.0540, 0.0544, 0.0548, 0.0552, 0.0556, 0.0559, 0.0563, 0.0567,\n",
       "        0.0571, 0.0575, 0.0579, 0.0583, 0.0587, 0.0591, 0.0595, 0.0599, 0.0604,\n",
       "        0.0608, 0.0612, 0.0616, 0.0621, 0.0625, 0.0629, 0.0634, 0.0638, 0.0642,\n",
       "        0.0647, 0.0651, 0.0656, 0.0660, 0.0665, 0.0670, 0.0674, 0.0679, 0.0684,\n",
       "        0.0688, 0.0693, 0.0698, 0.0703, 0.0708, 0.0713, 0.0718, 0.0723, 0.0728,\n",
       "        0.0733, 0.0738, 0.0743, 0.0748, 0.0753, 0.0758, 0.0764, 0.0769, 0.0774,\n",
       "        0.0780, 0.0785, 0.0790, 0.0796, 0.0802, 0.0807, 0.0813, 0.0818, 0.0824,\n",
       "        0.0830, 0.0835, 0.0841, 0.0847, 0.0853, 0.0859, 0.0865, 0.0871, 0.0877,\n",
       "        0.0883, 0.0889, 0.0895, 0.0901, 0.0908, 0.0914, 0.0920, 0.0927, 0.0933,\n",
       "        0.0940, 0.0946, 0.0953, 0.0959, 0.0966, 0.0973, 0.0979, 0.0986, 0.0993,\n",
       "        0.1000, 0.1007, 0.1014, 0.1021, 0.1028, 0.1035, 0.1042, 0.1050, 0.1057,\n",
       "        0.1064, 0.1072, 0.1079, 0.1087, 0.1094, 0.1102, 0.1109, 0.1117, 0.1125,\n",
       "        0.1133, 0.1140, 0.1148, 0.1156, 0.1164, 0.1172, 0.1181, 0.1189, 0.1197,\n",
       "        0.1205, 0.1214, 0.1222, 0.1231, 0.1239, 0.1248, 0.1256, 0.1265, 0.1274,\n",
       "        0.1283, 0.1292, 0.1301, 0.1310, 0.1319, 0.1328, 0.1337, 0.1346, 0.1356,\n",
       "        0.1365, 0.1374, 0.1384, 0.1394, 0.1403, 0.1413, 0.1423, 0.1433, 0.1443,\n",
       "        0.1453, 0.1463, 0.1473, 0.1483, 0.1493, 0.1504, 0.1514, 0.1525, 0.1535,\n",
       "        0.1546, 0.1557, 0.1567, 0.1578, 0.1589, 0.1600, 0.1611, 0.1623, 0.1634,\n",
       "        0.1645, 0.1657, 0.1668, 0.1680, 0.1691, 0.1703, 0.1715, 0.1727, 0.1739,\n",
       "        0.1751, 0.1763, 0.1775, 0.1788, 0.1800, 0.1812, 0.1825, 0.1838, 0.1850,\n",
       "        0.1863, 0.1876, 0.1889, 0.1902, 0.1916, 0.1929, 0.1942, 0.1956, 0.1969,\n",
       "        0.1983, 0.1997, 0.2010, 0.2024, 0.2038, 0.2053, 0.2067, 0.2081, 0.2096,\n",
       "        0.2110, 0.2125, 0.2140, 0.2154, 0.2169, 0.2184, 0.2200, 0.2215, 0.2230,\n",
       "        0.2246, 0.2261, 0.2277, 0.2293, 0.2309, 0.2325, 0.2341, 0.2357, 0.2373,\n",
       "        0.2390, 0.2406, 0.2423, 0.2440, 0.2457, 0.2474, 0.2491, 0.2508, 0.2526,\n",
       "        0.2543, 0.2561, 0.2579, 0.2597, 0.2615, 0.2633, 0.2651, 0.2669, 0.2688,\n",
       "        0.2707, 0.2725, 0.2744, 0.2763, 0.2783, 0.2802, 0.2821, 0.2841, 0.2861,\n",
       "        0.2880, 0.2900, 0.2921, 0.2941, 0.2961, 0.2982, 0.3002, 0.3023, 0.3044,\n",
       "        0.3065, 0.3087, 0.3108, 0.3130, 0.3151, 0.3173, 0.3195, 0.3217, 0.3240,\n",
       "        0.3262, 0.3285, 0.3308, 0.3331, 0.3354, 0.3377, 0.3400, 0.3424, 0.3448,\n",
       "        0.3472, 0.3496, 0.3520, 0.3544, 0.3569, 0.3594, 0.3619, 0.3644, 0.3669,\n",
       "        0.3695, 0.3720, 0.3746, 0.3772, 0.3798, 0.3825, 0.3851, 0.3878, 0.3905,\n",
       "        0.3932, 0.3959, 0.3987, 0.4014, 0.4042, 0.4070, 0.4098, 0.4127, 0.4155,\n",
       "        0.4184, 0.4213, 0.4243, 0.4272, 0.4302, 0.4331, 0.4362, 0.4392, 0.4422,\n",
       "        0.4453, 0.4484, 0.4515, 0.4546, 0.4578, 0.4610, 0.4642, 0.4674, 0.4706,\n",
       "        0.4739, 0.4772, 0.4805, 0.4838, 0.4872, 0.4906, 0.4940, 0.4974, 0.5008,\n",
       "        0.5043, 0.5078, 0.5113, 0.5149, 0.5185, 0.5221, 0.5257, 0.5293, 0.5330,\n",
       "        0.5367, 0.5404, 0.5442, 0.5479, 0.5517, 0.5556, 0.5594, 0.5633, 0.5672,\n",
       "        0.5712, 0.5751, 0.5791, 0.5831, 0.5872, 0.5913, 0.5954, 0.5995, 0.6036,\n",
       "        0.6078, 0.6120, 0.6163, 0.6206, 0.6249, 0.6292, 0.6336, 0.6380, 0.6424,\n",
       "        0.6469, 0.6513, 0.6559, 0.6604, 0.6650, 0.6696, 0.6743, 0.6789, 0.6837,\n",
       "        0.6884, 0.6932, 0.6980, 0.7028, 0.7077, 0.7126, 0.7176, 0.7225, 0.7275,\n",
       "        0.7326, 0.7377, 0.7428, 0.7480, 0.7531, 0.7584, 0.7636, 0.7689, 0.7743,\n",
       "        0.7796, 0.7850, 0.7905, 0.7960, 0.8015, 0.8071, 0.8127, 0.8183, 0.8240,\n",
       "        0.8297, 0.8355, 0.8412, 0.8471, 0.8530, 0.8589, 0.8648, 0.8708, 0.8769,\n",
       "        0.8830, 0.8891, 0.8953, 0.9015, 0.9077, 0.9140, 0.9204, 0.9268, 0.9332,\n",
       "        0.9397, 0.9462, 0.9528, 0.9594, 0.9660, 0.9727, 0.9795, 0.9863, 0.9931,\n",
       "        1.0000])"
      ]
     },
     "execution_count": 103,
     "metadata": {},
     "output_type": "execute_result"
    }
   ],
   "source": [
    "lre = torch.linspace(-3, 0, 1000)\n",
    "lrs = 10 ** lre\n",
    "lrs"
   ]
  },
  {
   "cell_type": "code",
   "execution_count": 104,
   "id": "d7c5b15f-3a06-49fc-9616-f22cf752f948",
   "metadata": {
    "scrolled": true
   },
   "outputs": [
    {
     "ename": "KeyboardInterrupt",
     "evalue": "",
     "output_type": "error",
     "traceback": [
      "\u001b[1;31m---------------------------------------------------------------------------\u001b[0m",
      "\u001b[1;31mKeyboardInterrupt\u001b[0m                         Traceback (most recent call last)",
      "Cell \u001b[1;32mIn[104], line 21\u001b[0m\n\u001b[0;32m     19\u001b[0m \u001b[38;5;28;01mfor\u001b[39;00m p \u001b[38;5;129;01min\u001b[39;00m parameters:\n\u001b[0;32m     20\u001b[0m     p\u001b[38;5;241m.\u001b[39mgrad \u001b[38;5;241m=\u001b[39m \u001b[38;5;28;01mNone\u001b[39;00m \u001b[38;5;66;03m# zeros out the grad\u001b[39;00m\n\u001b[1;32m---> 21\u001b[0m loss\u001b[38;5;241m.\u001b[39mbackward()\n\u001b[0;32m     23\u001b[0m \u001b[38;5;66;03m# update parameters data\u001b[39;00m\n\u001b[0;32m     24\u001b[0m \u001b[38;5;66;03m# lr = lrs[i]\u001b[39;00m\n\u001b[0;32m     25\u001b[0m lr \u001b[38;5;241m=\u001b[39m \u001b[38;5;241m0.05\u001b[39m\n",
      "File \u001b[1;32m~\\anaconda3\\Lib\\site-packages\\torch\\_tensor.py:648\u001b[0m, in \u001b[0;36mTensor.backward\u001b[1;34m(self, gradient, retain_graph, create_graph, inputs)\u001b[0m\n\u001b[0;32m    638\u001b[0m \u001b[38;5;28;01mif\u001b[39;00m has_torch_function_unary(\u001b[38;5;28mself\u001b[39m):\n\u001b[0;32m    639\u001b[0m     \u001b[38;5;28;01mreturn\u001b[39;00m handle_torch_function(\n\u001b[0;32m    640\u001b[0m         Tensor\u001b[38;5;241m.\u001b[39mbackward,\n\u001b[0;32m    641\u001b[0m         (\u001b[38;5;28mself\u001b[39m,),\n\u001b[1;32m   (...)\u001b[0m\n\u001b[0;32m    646\u001b[0m         inputs\u001b[38;5;241m=\u001b[39minputs,\n\u001b[0;32m    647\u001b[0m     )\n\u001b[1;32m--> 648\u001b[0m torch\u001b[38;5;241m.\u001b[39mautograd\u001b[38;5;241m.\u001b[39mbackward(\n\u001b[0;32m    649\u001b[0m     \u001b[38;5;28mself\u001b[39m, gradient, retain_graph, create_graph, inputs\u001b[38;5;241m=\u001b[39minputs\n\u001b[0;32m    650\u001b[0m )\n",
      "File \u001b[1;32m~\\anaconda3\\Lib\\site-packages\\torch\\autograd\\__init__.py:353\u001b[0m, in \u001b[0;36mbackward\u001b[1;34m(tensors, grad_tensors, retain_graph, create_graph, grad_variables, inputs)\u001b[0m\n\u001b[0;32m    348\u001b[0m     retain_graph \u001b[38;5;241m=\u001b[39m create_graph\n\u001b[0;32m    350\u001b[0m \u001b[38;5;66;03m# The reason we repeat the same comment below is that\u001b[39;00m\n\u001b[0;32m    351\u001b[0m \u001b[38;5;66;03m# some Python versions print out the first line of a multi-line function\u001b[39;00m\n\u001b[0;32m    352\u001b[0m \u001b[38;5;66;03m# calls in the traceback and some print out the last line\u001b[39;00m\n\u001b[1;32m--> 353\u001b[0m _engine_run_backward(\n\u001b[0;32m    354\u001b[0m     tensors,\n\u001b[0;32m    355\u001b[0m     grad_tensors_,\n\u001b[0;32m    356\u001b[0m     retain_graph,\n\u001b[0;32m    357\u001b[0m     create_graph,\n\u001b[0;32m    358\u001b[0m     inputs,\n\u001b[0;32m    359\u001b[0m     allow_unreachable\u001b[38;5;241m=\u001b[39m\u001b[38;5;28;01mTrue\u001b[39;00m,\n\u001b[0;32m    360\u001b[0m     accumulate_grad\u001b[38;5;241m=\u001b[39m\u001b[38;5;28;01mTrue\u001b[39;00m,\n\u001b[0;32m    361\u001b[0m )\n",
      "File \u001b[1;32m~\\anaconda3\\Lib\\site-packages\\torch\\autograd\\graph.py:824\u001b[0m, in \u001b[0;36m_engine_run_backward\u001b[1;34m(t_outputs, *args, **kwargs)\u001b[0m\n\u001b[0;32m    822\u001b[0m     unregister_hooks \u001b[38;5;241m=\u001b[39m _register_logging_hooks_on_whole_graph(t_outputs)\n\u001b[0;32m    823\u001b[0m \u001b[38;5;28;01mtry\u001b[39;00m:\n\u001b[1;32m--> 824\u001b[0m     \u001b[38;5;28;01mreturn\u001b[39;00m Variable\u001b[38;5;241m.\u001b[39m_execution_engine\u001b[38;5;241m.\u001b[39mrun_backward(  \u001b[38;5;66;03m# Calls into the C++ engine to run the backward pass\u001b[39;00m\n\u001b[0;32m    825\u001b[0m         t_outputs, \u001b[38;5;241m*\u001b[39margs, \u001b[38;5;241m*\u001b[39m\u001b[38;5;241m*\u001b[39mkwargs\n\u001b[0;32m    826\u001b[0m     )  \u001b[38;5;66;03m# Calls into the C++ engine to run the backward pass\u001b[39;00m\n\u001b[0;32m    827\u001b[0m \u001b[38;5;28;01mfinally\u001b[39;00m:\n\u001b[0;32m    828\u001b[0m     \u001b[38;5;28;01mif\u001b[39;00m attach_logging_hooks:\n",
      "\u001b[1;31mKeyboardInterrupt\u001b[0m: "
     ]
    }
   ],
   "source": [
    "# we shouldnt run the forward and backward on the entire dataset, \n",
    "# instead we should run these on mini-batches of the dataset\n",
    "# lri = []\n",
    "# lossi = []\n",
    "for i in range(10000):\n",
    "    # minibatch construct\n",
    "    ix = torch.randint(0, X.shape[0], (32, )) # using gradient of 32 random datapoints\n",
    "    # forward pass\n",
    "    emb = C[X[ix]] # (32, 3, 2)\n",
    "    h = torch.tanh(emb.view(-1, 6) @ W1 + b1) # (32, 100)\n",
    "    logits = h @ W2 + b2 # (32, 27)\n",
    "    # counts = logits.exp() # get fake counts\n",
    "    # prob = counts / counts.sum(1, keepdims=True) # sum along first dim (we want to end up with 32 sums, not 27)\n",
    "    # loss = -prob[torch.arange(32), Y].log().mean()\n",
    "    loss = F.cross_entropy(logits, Y[ix]) # 1) fused kernels, equivalent to above, 2) backward pass is simpler \n",
    "                                        # 3) numerically well behaved (with the exp, doesn't work well with very positive nums)\n",
    "    # print(loss.item())\n",
    "    # backward pass\n",
    "    for p in parameters:\n",
    "        p.grad = None # zeros out the grad\n",
    "    loss.backward()\n",
    "    \n",
    "    # update parameters data\n",
    "    # lr = lrs[i]\n",
    "    lr = 0.05\n",
    "    for p in parameters: # 0.001 - 1\n",
    "        p.data += -lr * p.grad # how do you determine learning rate? guess and check with a low and high range of learning rates\n",
    "\n",
    "    # track stats\n",
    "    # lri.append(lre[i])\n",
    "    # lossi.append(loss.item())\n",
    "print(loss.item())"
   ]
  },
  {
   "cell_type": "code",
   "execution_count": null,
   "id": "8e219008-a7ba-4b09-8248-7307002fcdae",
   "metadata": {},
   "outputs": [],
   "source": [
    "# learning rate plot\n",
    "plt.plot(lri, lossi)"
   ]
  },
  {
   "cell_type": "code",
   "execution_count": null,
   "id": "78b835dc-753a-4786-ad45-09c2e942028d",
   "metadata": {},
   "outputs": [],
   "source": [
    "# how well is the model doing on the whole dataset:\n",
    "emb = C[X] # (32, 3, 2)\n",
    "h = torch.tanh(emb.view(-1, 6) @ W1 + b1) # (32, 100)\n",
    "logits = h @ W2 + b2 # (32, 27)\n",
    "loss = F.cross_entropy(logits, Y)\n",
    "loss"
   ]
  },
  {
   "cell_type": "code",
   "execution_count": null,
   "id": "ae5a4b1c-4705-4195-a5c1-1fdf84d658a9",
   "metadata": {},
   "outputs": [],
   "source": []
  },
  {
   "cell_type": "code",
   "execution_count": null,
   "id": "e3fcd837-8664-47ef-921c-9e661be61506",
   "metadata": {},
   "outputs": [],
   "source": [
    "torch.randint(0, X.shape[0], (32, ))"
   ]
  },
  {
   "cell_type": "code",
   "execution_count": null,
   "id": "7ea6fc0d-3b23-4c2f-9e08-8ff336be451e",
   "metadata": {},
   "outputs": [],
   "source": [
    "# why is loss not 0? because same prefix of 3 characters can lead to multiple outcomes\n",
    "logits.max(1)"
   ]
  },
  {
   "cell_type": "code",
   "execution_count": null,
   "id": "256f3b41-08c5-4379-9bd4-0d8ac17b0824",
   "metadata": {},
   "outputs": [],
   "source": [
    "Y"
   ]
  },
  {
   "cell_type": "code",
   "execution_count": null,
   "id": "e976ce20-0fd2-49c5-9c3e-51b677d0edc0",
   "metadata": {},
   "outputs": [],
   "source": [
    "\"\"\"\n",
    "We have a better model with lower loss?\n",
    "as model grows, the more capable it is to overfit the training data\n",
    "its just memorizing the training set, dont get new data\n",
    "\n",
    "standard in the field:\n",
    "training split, validation/dev split, test split (80%, 10%, 10%)\n",
    "\n",
    "traing - optimize params\n",
    "dev - devlopment over hyperparams\n",
    "test - eval the performance of the model at the end, very sparingly otherwise \n",
    "                you are leaking information from the test split as well\n",
    "\"\"\""
   ]
  },
  {
   "cell_type": "code",
   "execution_count": null,
   "id": "c338331e-d4d1-49f3-a990-88cf5382e087",
   "metadata": {},
   "outputs": [],
   "source": [
    "# lets put this into practice"
   ]
  },
  {
   "cell_type": "code",
   "execution_count": 187,
   "id": "4e8de76e-2ee6-41ee-bcab-7dc0e9391d8c",
   "metadata": {},
   "outputs": [
    {
     "name": "stdout",
     "output_type": "stream",
     "text": [
      "torch.Size([182437, 3]) torch.Size([182437])\n",
      "torch.Size([22781, 3]) torch.Size([22781])\n",
      "torch.Size([22928, 3]) torch.Size([22928])\n"
     ]
    }
   ],
   "source": [
    "# build the dataset\n",
    "block_size = 3 # context length: how many characters do we take to predict the next one?\n",
    "\n",
    "def build_dataset(words):  \n",
    "  X, Y = [], []\n",
    "  for w in words:\n",
    "\n",
    "    #print(w)\n",
    "    context = [0] * block_size\n",
    "    for ch in w + '.':\n",
    "      ix = stoi[ch]\n",
    "      X.append(context)\n",
    "      Y.append(ix)\n",
    "      #print(''.join(itos[i] for i in context), '--->', itos[ix])\n",
    "      context = context[1:] + [ix] # crop and append\n",
    "\n",
    "  X = torch.tensor(X)\n",
    "  Y = torch.tensor(Y)\n",
    "  print(X.shape, Y.shape)\n",
    "  return X, Y\n",
    "\n",
    "import random\n",
    "random.seed(42)\n",
    "random.shuffle(words)\n",
    "n1 = int(0.8*len(words))\n",
    "n2 = int(0.9*len(words))\n",
    "\n",
    "Xtr, Ytr = build_dataset(words[:n1])\n",
    "Xdev, Ydev = build_dataset(words[n1:n2])\n",
    "Xte, Yte = build_dataset(words[n2:])\n"
   ]
  },
  {
   "cell_type": "code",
   "execution_count": 188,
   "id": "bd3fdc26-d12b-4a49-af2b-060cf294e921",
   "metadata": {
    "scrolled": true
   },
   "outputs": [
    {
     "data": {
      "text/plain": [
       "(torch.Size([182437, 3]), torch.int64, torch.Size([182437]), torch.int64)"
      ]
     },
     "execution_count": 188,
     "metadata": {},
     "output_type": "execute_result"
    }
   ],
   "source": [
    "Xtr.shape, Xtr.dtype, Ytr.shape, Ytr.dtype\n"
   ]
  },
  {
   "cell_type": "code",
   "execution_count": 189,
   "id": "64297ac3-ec14-4805-8f4f-c913709457a2",
   "metadata": {},
   "outputs": [],
   "source": [
    "g = torch.Generator().manual_seed(2147483647) # for reproducibility\n",
    "C = torch.randn((27, 2), generator=g)\n",
    "W1 = torch.randn((6, 100), generator=g)\n",
    "b1 = torch.randn(100, generator=g)\n",
    "W2 = torch.randn((100, 27), generator=g)\n",
    "b2 = torch.randn(27, generator=g)\n",
    "parameters = [C, W1, b1, W2, b2]"
   ]
  },
  {
   "cell_type": "code",
   "execution_count": 190,
   "id": "158a67c7-6e12-4a7a-a456-b5816cee52b8",
   "metadata": {
    "scrolled": true
   },
   "outputs": [
    {
     "data": {
      "text/plain": [
       "3481"
      ]
     },
     "execution_count": 190,
     "metadata": {},
     "output_type": "execute_result"
    }
   ],
   "source": [
    "sum(p.nelement() for p in parameters) # number of parameters in total\n"
   ]
  },
  {
   "cell_type": "code",
   "execution_count": 191,
   "id": "7161c2c9-224c-4dd4-b15d-5eac35608936",
   "metadata": {},
   "outputs": [],
   "source": [
    "for p in parameters:\n",
    "    p.requires_grad = True"
   ]
  },
  {
   "cell_type": "code",
   "execution_count": 208,
   "id": "29a94c3b-cd3f-4df5-b22c-497c20a1b2f1",
   "metadata": {
    "scrolled": true
   },
   "outputs": [
    {
     "name": "stdout",
     "output_type": "stream",
     "text": [
      "2.5190606117248535\n"
     ]
    }
   ],
   "source": [
    "# we shouldnt run the forward and backward on the entire dataset, \n",
    "# instead we should run these on mini-batches of the dataset\n",
    "# lri = []\n",
    "# lossi = []\n",
    "for i in range(10000):\n",
    "    # minibatch construct\n",
    "    ix = torch.randint(0, Xtr.shape[0], (32, )) # using gradient of 32 random datapoints\n",
    "    # forward pass\n",
    "    emb = C[Xtr[ix]] # (32, 3, 2)\n",
    "    h = torch.tanh(emb.view(-1, 6) @ W1 + b1) # (32, 100)\n",
    "    logits = h @ W2 + b2 # (32, 27)\n",
    "    # counts = logits.exp() # get fake counts\n",
    "    # prob = counts / counts.sum(1, keepdims=True) # sum along first dim (we want to end up with 32 sums, not 27)\n",
    "    # loss = -prob[torch.arange(32), Y].log().mean()\n",
    "    loss = F.cross_entropy(logits, Ytr[ix]) # 1) fused kernels, equivalent to above, 2) backward pass is simpler \n",
    "                                        # 3) numerically well behaved (with the exp, doesn't work well with very positive nums)\n",
    "    # print(loss.item())\n",
    "    # backward pass\n",
    "    for p in parameters:\n",
    "        p.grad = None # zeros out the grad\n",
    "    loss.backward()\n",
    "    \n",
    "    # update parameters data\n",
    "    # lr = lrs[i]\n",
    "    lr = 0.01\n",
    "    for p in parameters: # 0.001 - 1\n",
    "        p.data += -lr * p.grad # how do you determine learning rate? guess and check with a low and high range of learning rates\n",
    "\n",
    "    # track stats\n",
    "    # lri.append(lre[i])\n",
    "    # lossi.append(loss.item())\n",
    "print(loss.item())"
   ]
  },
  {
   "cell_type": "code",
   "execution_count": 209,
   "id": "7785102e-eb47-4281-9691-9c8aabea049b",
   "metadata": {},
   "outputs": [
    {
     "data": {
      "text/plain": [
       "tensor(2.3005, grad_fn=<NllLossBackward0>)"
      ]
     },
     "execution_count": 209,
     "metadata": {},
     "output_type": "execute_result"
    }
   ],
   "source": [
    "# how well is the model doing on the whole dataset:\n",
    "# training and test are equal - \"underfitting\"\n",
    "emb = C[Xtr] # (32, 3, 2)\n",
    "h = torch.tanh(emb.view(-1, 6) @ W1 + b1) # (32, 100)\n",
    "logits = h @ W2 + b2 # (32, 27)\n",
    "loss = F.cross_entropy(logits, Ytr)\n",
    "loss"
   ]
  },
  {
   "cell_type": "code",
   "execution_count": 210,
   "id": "d5e50054-dd27-4c5f-9af1-961a30b6c293",
   "metadata": {},
   "outputs": [
    {
     "data": {
      "text/plain": [
       "tensor(2.3174, grad_fn=<NllLossBackward0>)"
      ]
     },
     "execution_count": 210,
     "metadata": {},
     "output_type": "execute_result"
    }
   ],
   "source": [
    "# how well is the model doing on the whole dataset:\n",
    "# training and test are equal - \"underfitting\"\n",
    "emb = C[Xdev] # (32, 3, 2)\n",
    "h = torch.tanh(emb.view(-1, 6) @ W1 + b1) # (32, 100)\n",
    "logits = h @ W2 + b2 # (32, 27)\n",
    "loss = F.cross_entropy(logits, Ydev)\n",
    "loss"
   ]
  },
  {
   "cell_type": "code",
   "execution_count": null,
   "id": "c0bf14c5-3a92-4bef-96a1-236ee68aaaad",
   "metadata": {},
   "outputs": [],
   "source": []
  },
  {
   "cell_type": "code",
   "execution_count": null,
   "id": "1abef3fd-215a-44f3-a3f3-70aba1c0ac2a",
   "metadata": {
    "scrolled": true
   },
   "outputs": [],
   "source": [
    "# learning rate plot\n",
    "plt.plot(lri, lossi)"
   ]
  },
  {
   "cell_type": "code",
   "execution_count": null,
   "id": "1914e94d-1ec8-43f1-af28-dadcee895160",
   "metadata": {},
   "outputs": [],
   "source": [
    "# scale the neural network up:"
   ]
  },
  {
   "cell_type": "code",
   "execution_count": 211,
   "id": "0e06df6a-491f-47a2-a6a5-26e9c057bb94",
   "metadata": {},
   "outputs": [
    {
     "name": "stdout",
     "output_type": "stream",
     "text": [
      "torch.Size([182441, 3]) torch.Size([182441])\n",
      "torch.Size([22902, 3]) torch.Size([22902])\n",
      "torch.Size([22803, 3]) torch.Size([22803])\n"
     ]
    }
   ],
   "source": [
    "# build the dataset\n",
    "block_size = 3 # context length: how many characters do we take to predict the next one?\n",
    "\n",
    "def build_dataset(words):  \n",
    "  X, Y = [], []\n",
    "  for w in words:\n",
    "\n",
    "    #print(w)\n",
    "    context = [0] * block_size\n",
    "    for ch in w + '.':\n",
    "      ix = stoi[ch]\n",
    "      X.append(context)\n",
    "      Y.append(ix)\n",
    "      #print(''.join(itos[i] for i in context), '--->', itos[ix])\n",
    "      context = context[1:] + [ix] # crop and append\n",
    "\n",
    "  X = torch.tensor(X)\n",
    "  Y = torch.tensor(Y)\n",
    "  print(X.shape, Y.shape)\n",
    "  return X, Y\n",
    "\n",
    "import random\n",
    "random.seed(42)\n",
    "random.shuffle(words)\n",
    "n1 = int(0.8*len(words))\n",
    "n2 = int(0.9*len(words))\n",
    "\n",
    "Xtr, Ytr = build_dataset(words[:n1])\n",
    "Xdev, Ydev = build_dataset(words[n1:n2])\n",
    "Xte, Yte = build_dataset(words[n2:])\n"
   ]
  },
  {
   "cell_type": "code",
   "execution_count": 212,
   "id": "b3a5bd94-22b2-4def-bb1b-36b772999148",
   "metadata": {
    "scrolled": true
   },
   "outputs": [
    {
     "data": {
      "text/plain": [
       "(torch.Size([182441, 3]), torch.int64, torch.Size([182441]), torch.int64)"
      ]
     },
     "execution_count": 212,
     "metadata": {},
     "output_type": "execute_result"
    }
   ],
   "source": [
    "Xtr.shape, Xtr.dtype, Ytr.shape, Ytr.dtype\n"
   ]
  },
  {
   "cell_type": "code",
   "execution_count": 213,
   "id": "b7063ec1-8dcd-43d5-a7fd-f484cfd7ee98",
   "metadata": {},
   "outputs": [],
   "source": [
    "# increased the hidden layer size from 100 to 300, and make the embeddings dim from 2 to 10\n",
    "# and decrease hidden layer to 200\n",
    "\n",
    "g = torch.Generator().manual_seed(2147483647) # for reproducibility\n",
    "C = torch.randn((27, 10), generator=g)\n",
    "W1 = torch.randn((30, 200), generator=g)\n",
    "b1 = torch.randn(200, generator=g)\n",
    "W2 = torch.randn((200, 27), generator=g)\n",
    "b2 = torch.randn(27, generator=g)\n",
    "parameters = [C, W1, b1, W2, b2]"
   ]
  },
  {
   "cell_type": "code",
   "execution_count": 214,
   "id": "0068c007-d73b-45b4-a430-75ac6aaf6e6f",
   "metadata": {
    "scrolled": true
   },
   "outputs": [
    {
     "data": {
      "text/plain": [
       "11897"
      ]
     },
     "execution_count": 214,
     "metadata": {},
     "output_type": "execute_result"
    }
   ],
   "source": [
    "sum(p.nelement() for p in parameters) # number of parameters in total\n"
   ]
  },
  {
   "cell_type": "code",
   "execution_count": 215,
   "id": "7094d978-956d-486d-886d-45560f33ee3f",
   "metadata": {},
   "outputs": [],
   "source": [
    "for p in parameters:\n",
    "    p.requires_grad = True"
   ]
  },
  {
   "cell_type": "code",
   "execution_count": 216,
   "id": "021ac484-d13b-4890-9e0a-15b16eea60bc",
   "metadata": {},
   "outputs": [],
   "source": [
    "lri = []\n",
    "lossi = []\n",
    "stepi = []\n"
   ]
  },
  {
   "cell_type": "code",
   "execution_count": 218,
   "id": "776416cf-79fe-47ff-97b1-f04166a2de15",
   "metadata": {
    "scrolled": true
   },
   "outputs": [
    {
     "name": "stdout",
     "output_type": "stream",
     "text": [
      "2.334859609603882\n"
     ]
    }
   ],
   "source": [
    "# we shouldnt run the forward and backward on the entire dataset, \n",
    "# instead we should run these on mini-batches of the dataset\n",
    "for i in range(50_000):\n",
    "    # minibatch construct\n",
    "    ix = torch.randint(0, Xtr.shape[0], (32, )) # using gradient of 32 random datapoints\n",
    "    # forward pass\n",
    "    emb = C[Xtr[ix]] # (32, 3, 2)\n",
    "    h = torch.tanh(emb.view(-1, 30) @ W1 + b1) # (32, 100)\n",
    "    logits = h @ W2 + b2 # (32, 27)\n",
    "    loss = F.cross_entropy(logits, Ytr[ix]) # 1) fused kernels, equivalent to above, 2) backward pass is simpler \n",
    "                                        # 3) numerically well behaved (with the exp, doesn't work well with very positive nums)\n",
    "    # print(loss.item())\n",
    "    # backward pass\n",
    "    for p in parameters:\n",
    "        p.grad = None # zeros out the grad\n",
    "    loss.backward()\n",
    "    \n",
    "    # update parameters data\n",
    "    # lr = lrs[i]\n",
    "    lr = 0.01\n",
    "    for p in parameters: # 0.001 - 1\n",
    "        p.data += -lr * p.grad # how do you determine learning rate? guess and check with a low and high range of learning rates\n",
    "\n",
    "    # track stats\n",
    "    # lri.append(lre[i])\n",
    "    stepi.append(i)\n",
    "    lossi.append(loss.log10().item())\n",
    "print(loss.item())"
   ]
  },
  {
   "cell_type": "code",
   "execution_count": 183,
   "id": "295f6467-9d9c-4088-84e6-2de0179811e6",
   "metadata": {},
   "outputs": [
    {
     "data": {
      "text/plain": [
       "[<matplotlib.lines.Line2D at 0x1be3313eb10>]"
      ]
     },
     "execution_count": 183,
     "metadata": {},
     "output_type": "execute_result"
    },
    {
     "data": {
      "image/png": "[encoded data removed]",
      "text/plain": [
       "<Figure size 640x480 with 1 Axes>"
      ]
     },
     "metadata": {},
     "output_type": "display_data"
    }
   ],
   "source": [
    "plt.plot(stepi, lossi)"
   ]
  },
  {
   "cell_type": "code",
   "execution_count": 219,
   "id": "5cc5ab35-d60a-447b-a511-3a245bb7cfd6",
   "metadata": {},
   "outputs": [
    {
     "data": {
      "text/plain": [
       "tensor(2.1647, grad_fn=<NllLossBackward0>)"
      ]
     },
     "execution_count": 219,
     "metadata": {},
     "output_type": "execute_result"
    }
   ],
   "source": [
    "emb = C[Xtr] # (32, 3, 2)\n",
    "h = torch.tanh(emb.view(-1, 30) @ W1 + b1) # (32, 100)\n",
    "logits = h @ W2 + b2 # (32, 27)\n",
    "loss = F.cross_entropy(logits, Ytr)\n",
    "loss"
   ]
  },
  {
   "cell_type": "code",
   "execution_count": 220,
   "id": "d9c0b344-dbbd-4940-8007-1ce3ff2bfcb9",
   "metadata": {},
   "outputs": [
    {
     "data": {
      "text/plain": [
       "tensor(2.2020, grad_fn=<NllLossBackward0>)"
      ]
     },
     "execution_count": 220,
     "metadata": {},
     "output_type": "execute_result"
    }
   ],
   "source": [
    "# how well is the model doing on the whole dataset:\n",
    "# training and test are equal - \"underfitting\", we can make the model better...\n",
    "emb = C[Xdev] # (32, 3, 2)\n",
    "h = torch.tanh(emb.view(-1, 30) @ W1 + b1) # (32, 100)\n",
    "logits = h @ W2 + b2 # (32, 27)\n",
    "loss = F.cross_entropy(logits, Ydev)\n",
    "loss"
   ]
  },
  {
   "cell_type": "code",
   "execution_count": null,
   "id": "3c1980e5-828b-42b4-b9a0-c273dcea52ec",
   "metadata": {},
   "outputs": [],
   "source": [
    "# when training loss and dev loss starts to diverse, nn is large enough and we may be overfitting\n",
    "# what are some knobs we can tweak to surpass validation loss?:\n",
    "# 1) hidden layer size 2) dim of embeddings 3) number of input characters context 4) details of optimization, \n",
    "# e.g. how long are we running, what is the learning rate, how does it change over time, mini batch size"
   ]
  },
  {
   "cell_type": "code",
   "execution_count": 175,
   "id": "34b7e3a6-b3b6-4c06-8b19-65a48bd2265c",
   "metadata": {},
   "outputs": [
    {
     "data": {
      "image/png": "[encoded data removed]",
      "text/plain": [
       "<Figure size 800x800 with 1 Axes>"
      ]
     },
     "metadata": {},
     "output_type": "display_data"
    }
   ],
   "source": [
    "# visualize dimensions 0 and 1 of the embedding matrix C for all characters\n",
    "plt.figure(figsize=(8,8))\n",
    "plt.scatter(C[:,0].data, C[:,1].data, s=200)\n",
    "for i in range(C.shape[0]):\n",
    "    plt.text(C[i,0].item(), C[i,1].item(), itos[i], ha=\"center\", va=\"center\", color='white')\n",
    "plt.grid('minor')\n"
   ]
  },
  {
   "cell_type": "code",
   "execution_count": 186,
   "id": "55a6c9cf-ec56-4dbf-9fd5-77d925689c18",
   "metadata": {},
   "outputs": [
    {
     "name": "stdout",
     "output_type": "stream",
     "text": [
      "carmahfa.\n",
      "jehleigh.\n",
      "mili.\n",
      "tholdence.\n",
      "saeja.\n",
      "hubedamerynt.\n",
      "kaeli.\n",
      "nellara.\n",
      "chaiivon.\n",
      "leggy.\n",
      "ham.\n",
      "por.\n",
      "desian.\n",
      "sulie.\n",
      "alian.\n",
      "quintthoniearyxi.\n",
      "jacee.\n",
      "dusabee.\n",
      "depo.\n",
      "abetteley.\n"
     ]
    }
   ],
   "source": [
    "# sample from the model\n",
    "g = torch.Generator().manual_seed(2147483647 + 10)\n",
    "\n",
    "for _ in range(20):\n",
    "    \n",
    "    out = []\n",
    "    context = [0] * block_size # initialize with all ...\n",
    "    while True:\n",
    "      emb = C[torch.tensor([context])] # (1,block_size,d)\n",
    "      h = torch.tanh(emb.view(1, -1) @ W1 + b1)\n",
    "      logits = h @ W2 + b2\n",
    "      probs = F.softmax(logits, dim=1)\n",
    "      ix = torch.multinomial(probs, num_samples=1, generator=g).item()\n",
    "      context = context[1:] + [ix]\n",
    "      out.append(ix)\n",
    "      if ix == 0:\n",
    "        break\n",
    "    \n",
    "    print(''.join(itos[i] for i in out))\n"
   ]
  }
 ],
 "metadata": {
  "kernelspec": {
   "display_name": "Python 3 (ipykernel)",
   "language": "python",
   "name": "python3"
  },
  "language_info": {
   "codemirror_mode": {
    "name": "ipython",
    "version": 3
   },
   "file_extension": ".py",
   "mimetype": "text/x-python",
   "name": "python",
   "nbconvert_exporter": "python",
   "pygments_lexer": "ipython3",
   "version": "3.11.7"
  }
 },
 "nbformat": 4,
 "nbformat_minor": 5
}
